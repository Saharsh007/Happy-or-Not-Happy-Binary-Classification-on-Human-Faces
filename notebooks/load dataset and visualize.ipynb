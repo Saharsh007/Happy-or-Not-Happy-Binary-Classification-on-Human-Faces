{
 "cells": [
  {
   "cell_type": "markdown",
   "metadata": {},
   "source": [
    "###  importing libraries for loading data and visulization\n"
   ]
  },
  {
   "cell_type": "code",
   "execution_count": 2,
   "metadata": {},
   "outputs": [],
   "source": [
    "import pandas as pd\n",
    "import numpy as np\n",
    "import matplotlib.pyplot as plt\n",
    "import math\n",
    "import glob\n",
    "import cv2 as cv\n",
    "import pickle\n",
    "import os\n",
    "from skimage.io import imread_collection\n"
   ]
  },
  {
   "cell_type": "markdown",
   "metadata": {},
   "source": [
    "### loading dataset\n"
   ]
  },
  {
   "cell_type": "code",
   "execution_count": 4,
   "metadata": {},
   "outputs": [],
   "source": [
    "# 1\n",
    "# loading images randomly\n",
    "# images = [cv.imread(file) for file in glob.glob(\"../dataset/one/files/*.jpg\")]\n",
    "\n",
    "\n",
    "# 2\n",
    "# this is loading images randomly\n",
    "# def load_images_from_folder(folder):\n",
    "#     images = []\n",
    "#     for filename in os.listdir(folder):\n",
    "#         img = cv.imread(os.path.join(folder,filename))\n",
    "#         if img is not None:\n",
    "#             images.append(img)\n",
    "#     return images\n",
    "\n",
    "# images = load_images_from_folder('../dataset/one/files/')\n",
    "\n",
    "# 3\n",
    "# changes the rgb value of image loaded\n",
    "# #your path \n",
    "# col_dir = '../dataset/one/files/*.jpg'\n",
    "\n",
    "# #creating a collection with the available images\n",
    "# images = imread_collection(col_dir)\n",
    "\n",
    "\n",
    "\n",
    "# 4\n",
    "# this works\n",
    "filenames = [img for img in glob.glob(\"../dataset/one/files/*.jpg\")]\n",
    "\n",
    "filenames.sort() # ADD THIS LINE\n",
    "\n",
    "images = []\n",
    "for img in filenames:\n",
    "    n= cv.imread(img)\n",
    "    images.append(n)\n"
   ]
  },
  {
   "cell_type": "code",
   "execution_count": 5,
   "metadata": {},
   "outputs": [
    {
     "name": "stdout",
     "output_type": "stream",
     "text": [
      "<class 'list'>\n"
     ]
    },
    {
     "data": {
      "text/plain": [
       "numpy.ndarray"
      ]
     },
     "execution_count": 5,
     "metadata": {},
     "output_type": "execute_result"
    }
   ],
   "source": [
    "print(type(images))\n",
    "type(images[1])"
   ]
  },
  {
   "cell_type": "code",
   "execution_count": 6,
   "metadata": {},
   "outputs": [
    {
     "name": "stdout",
     "output_type": "stream",
     "text": [
      "(192, 180, 3)\n"
     ]
    },
    {
     "data": {
      "text/plain": [
       "(192, 179, 3)"
      ]
     },
     "execution_count": 6,
     "metadata": {},
     "output_type": "execute_result"
    }
   ],
   "source": [
    "print(images[100].shape)\n",
    "images[3].shape\n"
   ]
  },
  {
   "cell_type": "code",
   "execution_count": 8,
   "metadata": {},
   "outputs": [],
   "source": [
    "cv.imshow('check', images[0])\n",
    "cv.waitKey(0)\n",
    "cv.destroyAllWindows()"
   ]
  },
  {
   "cell_type": "markdown",
   "metadata": {},
   "source": [
    "### some images have 192*180 dimentions whereas some has 192 * 179\n",
    "### we'll scale each to 192*180"
   ]
  },
  {
   "cell_type": "code",
   "execution_count": 9,
   "metadata": {},
   "outputs": [
    {
     "name": "stdout",
     "output_type": "stream",
     "text": [
      "<class 'numpy.ndarray'>\n"
     ]
    }
   ],
   "source": [
    "temp  = cv.resize(images[1], (192,180) )\n",
    "print(type(temp))"
   ]
  },
  {
   "cell_type": "code",
   "execution_count": 10,
   "metadata": {},
   "outputs": [],
   "source": [
    "images_resized = []\n",
    "for image in images:\n",
    "    images_resized.append(cv.resize(image, (180,192) ) )"
   ]
  },
  {
   "cell_type": "markdown",
   "metadata": {},
   "source": [
    "### now images_resized contains all images of resolution 192*180"
   ]
  },
  {
   "cell_type": "code",
   "execution_count": 11,
   "metadata": {},
   "outputs": [
    {
     "name": "stdout",
     "output_type": "stream",
     "text": [
      "4000\n",
      "(192, 180, 3)\n"
     ]
    }
   ],
   "source": [
    "print(len(images_resized))\n",
    "print(images_resized[1].shape)\n",
    "\n",
    "for index,image in enumerate(images_resized):\n",
    "    if(image.shape != (192,180,3)):\n",
    "        print(index)\n",
    "#nothing means all images scaled properly"
   ]
  },
  {
   "cell_type": "code",
   "execution_count": 12,
   "metadata": {},
   "outputs": [],
   "source": [
    "cv.imshow('check', images_resized[1000])\n",
    "cv.waitKey(0)\n",
    "cv.destroyAllWindows()"
   ]
  },
  {
   "cell_type": "code",
   "execution_count": 14,
   "metadata": {},
   "outputs": [],
   "source": [
    "# with open('X_train.txt', 'w') as f:\n",
    "#     for image in images:\n",
    "#         f.write(\"%s\\n\" % image)"
   ]
  },
  {
   "cell_type": "code",
   "execution_count": 15,
   "metadata": {},
   "outputs": [],
   "source": [
    "# with open('X_train.txt','r') as f:\n",
    "#     for image in images"
   ]
  },
  {
   "cell_type": "markdown",
   "metadata": {},
   "source": [
    "### using pickle to save and load data"
   ]
  },
  {
   "cell_type": "code",
   "execution_count": 17,
   "metadata": {},
   "outputs": [],
   "source": [
    "#save to X_train\n",
    "with open('../temp_data_file/X_train', 'wb') as fp:\n",
    "    pickle.dump(images_resized, fp)\n"
   ]
  },
  {
   "cell_type": "code",
   "execution_count": null,
   "metadata": {},
   "outputs": [],
   "source": [
    "#load from X_train\n",
    "with open ('../temp_data_file/X_train', 'rb') as fp:\n",
    "    itemlist = pickle.load(fp)\n",
    "    "
   ]
  },
  {
   "cell_type": "code",
   "execution_count": null,
   "metadata": {},
   "outputs": [],
   "source": [
    "cv.imshow('check', itemlist[0])\n",
    "cv.waitKey(0)\n",
    "cv.destroyAllWindows()\n",
    "#working"
   ]
  },
  {
   "cell_type": "code",
   "execution_count": null,
   "metadata": {},
   "outputs": [],
   "source": []
  }
 ],
 "metadata": {
  "kernelspec": {
   "display_name": "Python 3",
   "language": "python",
   "name": "python3"
  },
  "language_info": {
   "codemirror_mode": {
    "name": "ipython",
    "version": 3
   },
   "file_extension": ".py",
   "mimetype": "text/x-python",
   "name": "python",
   "nbconvert_exporter": "python",
   "pygments_lexer": "ipython3",
   "version": "3.7.3"
  }
 },
 "nbformat": 4,
 "nbformat_minor": 2
}
